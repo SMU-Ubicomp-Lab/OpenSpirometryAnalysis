{
 "cells": [
  {
   "cell_type": "markdown",
   "metadata": {},
   "source": [
    "# OpenSpiro Algorithm Development"
   ]
  },
  {
   "cell_type": "markdown",
   "metadata": {},
   "source": [
    "##### Import Statements "
   ]
  },
  {
   "cell_type": "code",
   "execution_count": null,
   "metadata": {
    "collapsed": false,
    "scrolled": false
   },
   "outputs": [],
   "source": [
    "import numpy as np\n",
    "from matplotlib import pyplot as plt\n",
    "import scipy.io.wavfile as wavfile"
   ]
  },
  {
   "cell_type": "markdown",
   "metadata": {},
   "source": [
    "##### Notebook Customization"
   ]
  },
  {
   "cell_type": "code",
   "execution_count": null,
   "metadata": {
    "collapsed": false
   },
   "outputs": [],
   "source": [
    "# Forces graphs to display in notebook\n",
    "%matplotlib inline"
   ]
  },
  {
   "cell_type": "markdown",
   "metadata": {},
   "source": [
    "##### Global Functions"
   ]
  },
  {
   "cell_type": "code",
   "execution_count": null,
   "metadata": {
    "collapsed": true
   },
   "outputs": [],
   "source": [
    "def get_max_values (data):\n",
    "    # Create an empty array of the same length as the data array\n",
    "    max_array = np.zeros(data.shape[1])\n",
    "    \n",
    "    # Iterate through all columns of the FFT data\n",
    "    for i in range(0, data.shape[1]):\n",
    "        col = data[:, i]\n",
    "        max_location = np.argmax(col)\n",
    "        max_array[i] = max_location   #Location of the highest value, not the value itself    \n",
    "    return max_array"
   ]
  },
  {
   "cell_type": "code",
   "execution_count": null,
   "metadata": {
    "collapsed": true
   },
   "outputs": [],
   "source": [
    "def convert_to_freq(index):\n",
    "    return index*sample_rate/fft_n"
   ]
  },
  {
   "cell_type": "code",
   "execution_count": null,
   "metadata": {
    "collapsed": true
   },
   "outputs": [],
   "source": [
    "def time_to_index(time, sampling_rate):    \n",
    "    return int(float(time) * float(sampling_rate))\n",
    "\n",
    "def index_to_time(index, sampling_rate):    \n",
    "    return float(index) / float(sampling_rate)"
   ]
  },
  {
   "cell_type": "markdown",
   "metadata": {},
   "source": [
    "## Signal Creation\n",
    "##### Initialization"
   ]
  },
  {
   "cell_type": "code",
   "execution_count": null,
   "metadata": {
    "collapsed": false
   },
   "outputs": [],
   "source": [
    "time = 5\n",
    "sample_rate = 44100\n",
    "\n",
    "# Create a time array with time*sample_rate units from 0 to time\n",
    "t = np.linspace(0, time, time*sample_rate)\n",
    "\n",
    "# Create a data curve (with 5k + 10k signals)\n",
    "signal = np.sin(2*np.pi*t*5000) + np.sin(2*np.pi*t*10000)\n",
    "print signal\n",
    "print signal.shape\n",
    "\n",
    "# Create a signal amplifier to increase the magnitude of one of the above frequencies\n",
    "delayed_signal = np.sin(2*np.pi*t*10000)*2\n",
    "# Clear the first half of the signal array so the signal begins at time/2\n",
    "delayed_signal[0:len(delayed_signal)/2] = 0\n",
    "\n",
    "print delayed_signal\n",
    "print delayed_signal.shape\n",
    "\n",
    "combined_signal = signal + delayed_signal"
   ]
  },
  {
   "cell_type": "markdown",
   "metadata": {},
   "source": [
    "##### Signal Creation - Graphing"
   ]
  },
  {
   "cell_type": "code",
   "execution_count": null,
   "metadata": {
    "collapsed": false,
    "scrolled": false
   },
   "outputs": [],
   "source": [
    "# Graph the signal over time\n",
    "plt.figure(figsize=(15,10))\n",
    "points = 200\n",
    "# Graph the last 'points' points from the end through the end\n",
    "midpoint = time*sample_rate/2\n",
    "plt.plot(t[midpoint-100:midpoint+100], combined_signal[midpoint-100:midpoint+100], 'g')"
   ]
  },
  {
   "cell_type": "markdown",
   "metadata": {},
   "source": [
    "##### Signal Creation - FFT Analysis"
   ]
  },
  {
   "cell_type": "code",
   "execution_count": null,
   "metadata": {
    "collapsed": false,
    "scrolled": false
   },
   "outputs": [],
   "source": [
    "# Grab reference to figure that's about to be created\n",
    "f = plt.figure(figsize=(15,10))\n",
    "\n",
    "# Number of points in each FFT window\n",
    "fft_n = 2048\n",
    "\n",
    "# Number of points each subsequent window is shifted\n",
    "fft_shift = 128\n",
    "\n",
    "# CALCULATE FFT using specgram function and store usable result variants\n",
    "# NFFT: number of points in sample window\n",
    "# Fs: Sampling frequency (sample rate)\n",
    "# noverlap: number of points of overlap between blocks \n",
    "    # (if the window shifts by fft_shift, this num is the diff between\n",
    "    # n_fft and n_skip)\n",
    "    \n",
    "data, data_freq, data_time, _ = plt.specgram(combined_signal, NFFT=fft_n, Fs=sample_rate, noverlap=(fft_n-fft_shift) )     \n",
    "\n",
    "# Clear original figure\n",
    "f.clear()\n",
    "\n",
    "# Plot a customized figure\n",
    "ax = plt.subplot(1,1,1)\n",
    "ax.pcolorfast(data_time, data_freq, np.log(data), cmap=plt.cm.bone)\n",
    "plt.grid()"
   ]
  },
  {
   "cell_type": "markdown",
   "metadata": {},
   "source": [
    "The vertical bar in the chart above is created by the immediate change in signal when the delayed signal is added to the original signal. Because the transition is instantaneous, a blend of all possible frequencies is required to generate the necessary curve. Changing the size of the FFT window changes the number of windows that include this change, resulting in a narrower or wider bar for smaller and larger values of the window size respectively. (Gibbs Phenonmenon)\n",
    "\n",
    "As the frequency of 2 waves becomes closer and closer together, the difference in the number of periods per second decreases. This results in destructive interference... when two signals are closer together, they experience destructive interference LESS frequently which means that the time duration of each of these periods is longer. The result is that more samples are affected by this interference and the overall signal is changed. The result of this intereference  is a DECREASED magnitude for the wave being interfered with."
   ]
  },
  {
   "cell_type": "code",
   "execution_count": null,
   "metadata": {
    "collapsed": false,
    "scrolled": true
   },
   "outputs": [],
   "source": [
    "# Graph a single FFT window\n",
    "f = plt.figure(figsize=(15,10))\n",
    "\n",
    "# Grab a single FFT window from the FFT data\n",
    "slice = data[:,100]\n",
    "print slice.shape\n",
    "print slice\n",
    "\n",
    "# Create x-axis labels\n",
    "x = np.linspace(0, 0.5*sample_rate, slice.size)\n",
    "\n",
    "plt.plot(x, slice, 'g')"
   ]
  },
  {
   "cell_type": "markdown",
   "metadata": {},
   "source": [
    "The differences in the magnitude of different frequencies should be relatively the same if they each have a single signal, however, the sampling rate affects the measurement of their values. As the window size of the FFT increases, the difference between them should become smaller."
   ]
  },
  {
   "cell_type": "code",
   "execution_count": null,
   "metadata": {
    "collapsed": false,
    "scrolled": true
   },
   "outputs": [],
   "source": [
    "# Graph a single FFT window\n",
    "f = plt.figure(figsize=(15,10))\n",
    "\n",
    "# Grab a single FFT window from the FFT data\n",
    "slice = data[:,-100]\n",
    "print slice.shape\n",
    "print slice\n",
    "\n",
    "# Create x-axis labels\n",
    "x = np.linspace(0, 0.5*sample_rate, slice.size)\n",
    "\n",
    "plt.plot(x, slice, 'g')"
   ]
  },
  {
   "cell_type": "code",
   "execution_count": null,
   "metadata": {
    "collapsed": false,
    "scrolled": false
   },
   "outputs": [],
   "source": [
    "max_array = get_max_values(data)\n",
    "    \n",
    "f = plt.figure(figsize=(15,10))\n",
    "plt.style.use('ggplot')\n",
    "\n",
    "ax = plt.subplot(1,1,1)\n",
    "ax.pcolorfast(data_time, data_freq, np.log(data), cmap=plt.cm.bone)\n",
    "# ax.plot(data_time, max_array*sample_rate/fft_n, 'r', linewidth='5')\n",
    "\n",
    "# ax.clear()\n",
    "\n",
    "# ax.plot(data_time, max_array*sample_rate/fft_n, 'r', linewidth='5')\n",
    "ax.plot(data_time, max_array*sample_rate/fft_n)\n",
    "# plt.ylim([0,12000])\n",
    "# plt.grid()\n",
    "\n",
    "\n",
    "# Pband is a matrix of all zeroes with the same shape as data\n",
    "# At the row/table location of the highest val, set it = to true\n",
    "# Take log of data, and at any location where the highest val of the column exists, make the magnitude negative so those pixels are black"
   ]
  },
  {
   "cell_type": "markdown",
   "metadata": {},
   "source": [
    "### Audio File Signal Analysis"
   ]
  },
  {
   "cell_type": "code",
   "execution_count": null,
   "metadata": {
    "collapsed": false
   },
   "outputs": [],
   "source": [
    "# Import data from an audio file, save sampling rate and raw data\n",
    "\n",
    "sampling_rate, raw_data = wavfile.read(\"audio_curve_data/1459402052.121259.wav\")\n",
    "# sampling_rate, data = wavfile.read(\"audio_curve_data/1459459269.076375.wav\")\n",
    "# sampling_rate, data = wavfile.read(\"audio_curve_data/1459460426.952584.wav\")"
   ]
  },
  {
   "cell_type": "code",
   "execution_count": null,
   "metadata": {
    "collapsed": false
   },
   "outputs": [],
   "source": [
    "# Plot the raw spectrogram of the audio data \n",
    "f = plt.figure(figsize=(15,10)) \n",
    "plt.style.use('ggplot') \n",
    " \n",
    "data, data_freq, data_time, _ = plt.specgram(raw_data, NFFT=fft_n, Fs=sampling_rate, noverlap=(fft_n-fft_shift) ) \n",
    "# data_freq is a single column with the same number of rows as data where each row is a frequency (0 - fs/2) \n",
    "# data_time is an array of columns the same length as data where each index contains the time value at that column (0 - ~19) \n",
    " \n",
    "sampling_rate_columns = sampling_rate / fft_shift \n",
    "# Original sampling rate divided by overlap since there will be a new window every [fft_shift] points \n",
    "# https://db.tt/4lOSyLeO \n",
    " \n",
    "# Clear original figure \n",
    "f.clear() \n",
    " \n",
    "# Plot a customized figure \n",
    "ax = plt.subplot(1,1,1) \n",
    "ax.pcolorfast(data_time, data_freq, np.log(data), cmap=plt.cm.bone) \n",
    "plt.grid()"
   ]
  },
  {
   "cell_type": "code",
   "execution_count": null,
   "metadata": {
    "collapsed": false
   },
   "outputs": [],
   "source": [
    "f = plt.figure(figsize=(15,10))\n",
    "plt.style.use('ggplot')\n",
    "\n",
    "max_values = get_max_values(data)\n",
    "\n",
    "ax = plt.subplot(1,1,1)\n",
    "ax.pcolorfast(data_time, data_freq, np.log(data), cmap=plt.cm.bone)\n",
    "ax.plot(data_time, max_values*sampling_rate/fft_n)\n",
    "# max_values is a 1D array containing the vertical index which represents the max value for any given slice\n",
    "# ... because this value is NOT a frequency, we must map it to the correct frequency by multiplying the value by \n",
    "# ... sampling_rate/fft_n which is generated by the following:\n",
    "# ... The FFT returns a symmetric graph from 0 to fft_n, but because it's symmetric, half must be removed (fft_n/2)\n",
    "# ... then to map a frequency to an index, the sampling rate must be divided by 2 (fs/2)... finally, to map the two,\n",
    "# ... any index from fft_n/2 must be mapped to fs/2, resuling in fs/2 ÷ fft_n/2 OR fs/fft_n\n",
    "\n",
    "# Calculate the overall energy by summing each column\n",
    "cols = 0\n",
    "energy = np.sum(data,axis=cols)\n",
    "\n",
    "# Graph it on top of the spectrogram\n",
    "ax2 = ax.twinx()\n",
    "ax2.plot(data_time, energy, 'g')"
   ]
  },
  {
   "cell_type": "code",
   "execution_count": null,
   "metadata": {
    "collapsed": false
   },
   "outputs": [],
   "source": [
    "time = len(raw_data)/float(sampling_rate)\n",
    "print \"Sound file length: \", time, \"seconds\"\n",
    "\n",
    "max_loc = np.argmax(energy)\n",
    "\n",
    "print \"Max Energy occurs at: \", index_to_time(max_loc, sampling_rate_columns)"
   ]
  },
  {
   "cell_type": "code",
   "execution_count": null,
   "metadata": {
    "collapsed": false
   },
   "outputs": [],
   "source": [
    "# Windowed min function to flatten the curve\n",
    "window_size = sampling_rate_columns/2\n",
    "# Window size is 1/2 of a second\n",
    "window_shift = 1\n",
    "window_diff = window_size - window_shift\n",
    "\n",
    "print \"Window Size:\", window_size\n",
    "print \"Window Shift:\", window_shift\n",
    "print \"Window Diff:\", window_diff\n",
    "\n",
    "num_windows = int(np.ceil(len(energy) - (window_size - window_shift))/float(window_shift))\n",
    "\n",
    "min_values = np.zeros(num_windows)\n",
    "\n",
    "print \"Num Windows:\", num_windows\n",
    "\n",
    "for i in range(num_windows):\n",
    "    window_start = i * window_shift\n",
    "    window_end = window_start + window_size\n",
    "    \n",
    "    if window_end > len(energy):\n",
    "        min_values[i] = min(energy[window_start:])\n",
    "    else:\n",
    "        min_values[i] = min(energy[window_start:window_end])\n",
    "        \n",
    "\n",
    "plt.plot(min_values, \"g\")\n",
    "\n",
    "max_loc = np.argmax(energy)\n",
    "\n",
    "plt.plot(max_loc, max(min_values), 'o')"
   ]
  },
  {
   "cell_type": "code",
   "execution_count": null,
   "metadata": {
    "collapsed": false
   },
   "outputs": [],
   "source": [
    "slope_threshold = 5.0\n",
    "max_effort_length = 10.0\n",
    "\n",
    "# Create variables for the start/stop points of the primary sound window\n",
    "window_start = 0\n",
    "window_stop = 0\n",
    "\n",
    "\n",
    "# Begin at max energy and work backwards to find beginning of window\n",
    "curr_loc = max_loc\n",
    "slope = min_values[curr_loc] - min_values[curr_loc - 1] \n",
    "\n",
    "while slope >= slope_threshold:\n",
    "    curr_loc -= 1\n",
    "    slope = min_values[curr_loc] - min_values[curr_loc - 1] \n",
    "    \n",
    "window_start = curr_loc - 100\n",
    "\n",
    "\n",
    "fig = plt.figure(figsize=(15,10))\n",
    "ax = fig.add_subplot(1, 1, 1)\n",
    "plt.plot(min_values, \"g\")\n",
    "\n",
    "# ax2 = ax.twinx()\n",
    "# ax2.plot(energy, 'r')\n",
    "plt.plot(energy, 'r')\n",
    "\n",
    "plt.plot(max_loc, max(energy), 'ob')\n",
    "ax.text(max_loc, max(energy) + max(energy)*.05, 'Max Energy Value')\n",
    "plt.plot(window_start, min_values[window_start], 'og')\n",
    "ax.text(window_start - 1000, min_values[window_start] + max(min_values)*.05, 'Window Start')\n",
    "\n",
    "\n",
    "\n",
    "# Begin at window_start + max effort length and work backwards to find end of window \n",
    "curr_loc = window_start + time_to_index(max_effort_length, sampling_rate_columns)\n",
    "print curr_loc\n",
    "\n",
    "plt.plot(curr_loc, min_values[curr_loc], 'oy')\n",
    "\n",
    "slope = min_values[curr_loc] - min_values[curr_loc - 1] \n",
    "while slope <= 1.02:\n",
    "    curr_loc -= 1\n",
    "    slope = abs(min_values[curr_loc]/min_values[curr_loc - 1])\n",
    "    \n",
    "window_stop = curr_loc\n",
    "\n",
    "plt.plot(window_stop, min_values[window_stop], 'or')\n",
    "ax.text(window_stop, min_values[window_stop] + max(min_values)*.05, 'Window Stop')\n",
    "\n",
    "\n",
    "window_start_time = index_to_time(window_start, sampling_rate_columns)\n",
    "window_stop_time = index_to_time(window_stop, sampling_rate_columns)\n",
    "max_energy_time = index_to_time(max_loc, sampling_rate_columns)"
   ]
  },
  {
   "cell_type": "code",
   "execution_count": null,
   "metadata": {
    "collapsed": false
   },
   "outputs": [],
   "source": [
    "print min_values"
   ]
  },
  {
   "cell_type": "code",
   "execution_count": null,
   "metadata": {
    "collapsed": false
   },
   "outputs": [],
   "source": [
    "window_start_index = time_to_index(window_start_time, sampling_rate_columns)\n",
    "window_stop_index = time_to_index(window_stop_time, sampling_rate_columns)\n",
    "max_energy_index = time_to_index(max_energy_time, sampling_rate_columns)\n",
    "\n",
    "fig = plt.figure(figsize=(15,10))\n",
    "ax = plt.subplot(1,1,1)\n",
    "# ax.pcolorfast(data_time, data_freq, np.log(data), cmap=plt.cm.bone)\n",
    "ax.pcolorfast(data_time[window_start_index : window_stop_index], data_freq, np.log(data[:, window_start_index : window_stop_index]), cmap=plt.cm.bone)\n",
    "plt.grid()\n",
    "\n",
    "\n",
    "ax.plot(data_time[window_start_index : window_stop_index], max_values[window_start_index : window_stop_index]*sampling_rate/fft_n)\n",
    "# ERIC - Why multiply by sampling_rate/fft_n ???\n",
    "\n",
    "# Graph it on top of the spectrogram\n",
    "ax2 = ax.twinx()\n",
    "ax2.plot(data_time[: window_stop_index], energy[: window_stop_index], 'g')\n",
    "\n",
    "\n",
    "\n"
   ]
  },
  {
   "cell_type": "code",
   "execution_count": null,
   "metadata": {
    "collapsed": true
   },
   "outputs": [],
   "source": []
  },
  {
   "cell_type": "markdown",
   "metadata": {},
   "source": [
    "LOOK AT GREEN VALUES AS A PERCENT OF THE RED CURVE'S MAX VALUE"
   ]
  },
  {
   "cell_type": "code",
   "execution_count": null,
   "metadata": {
    "collapsed": true
   },
   "outputs": [],
   "source": []
  },
  {
   "cell_type": "code",
   "execution_count": null,
   "metadata": {
    "collapsed": true
   },
   "outputs": [],
   "source": []
  },
  {
   "cell_type": "code",
   "execution_count": null,
   "metadata": {
    "collapsed": true
   },
   "outputs": [],
   "source": []
  },
  {
   "cell_type": "code",
   "execution_count": null,
   "metadata": {
    "collapsed": false
   },
   "outputs": [],
   "source": [
    "filepath = \"OpenSpirometryAnalysis/Waveform/ATS26/26%02d.wf\"%((14))\n",
    "print filepath"
   ]
  },
  {
   "cell_type": "code",
   "execution_count": null,
   "metadata": {
    "collapsed": false
   },
   "outputs": [],
   "source": [
    "# waveform sandbox \n",
    "waveform_data = {}\n",
    "waveform_data[\"Header\"]={}\n",
    "waveform_data[\"Parameters\"]={}\n",
    "waveform_data[\"Data\"]=[]\n",
    "currSection = \"\"\n",
    "with open(filepath) as f:\n",
    "    data = f.readlines()\n",
    "    for dline in data:\n",
    "        sectionChanged = False\n",
    "        # know the current section\n",
    "        for sec in [\"Header\",\"Parameters\",\"Data\"]:\n",
    "            if dline.find(sec) != -1:\n",
    "                currSection = sec\n",
    "                sectionChanged = True \n",
    "        if sectionChanged:\n",
    "            continue \n",
    "            \n",
    "        dline = dline.strip()\n",
    "        if (currSection==\"Header\" or currSection==\"Parameters\") and len(dline)>1:\n",
    "            keyval = dline.split(\"=\")\n",
    "            if keyval[1][0].isdigit():\n",
    "                keyval[1] = float(keyval[1])\n",
    "            waveform_data[currSection][keyval[0]] = keyval[1]\n",
    "        elif currSection==\"Data\" and len(dline)>1:\n",
    "            waveform_data[currSection].append(float(dline))\n",
    "\n",
    "            \n",
    "print \"Parameters: \", waveform_data[\"Parameters\"]"
   ]
  },
  {
   "cell_type": "markdown",
   "metadata": {},
   "source": [
    "### Notes:\n",
    "- matrices are indexed by row:column (e.g., data[:, 1] will return a tuple which contains all the rows for the column at index 1)"
   ]
  },
  {
   "cell_type": "code",
   "execution_count": null,
   "metadata": {
    "collapsed": true
   },
   "outputs": [],
   "source": []
  }
 ],
 "metadata": {
  "kernelspec": {
   "display_name": "Python 2",
   "language": "python",
   "name": "python2"
  },
  "language_info": {
   "codemirror_mode": {
    "name": "ipython",
    "version": 2
   },
   "file_extension": ".py",
   "mimetype": "text/x-python",
   "name": "python",
   "nbconvert_exporter": "python",
   "pygments_lexer": "ipython2",
   "version": "2.7.11"
  }
 },
 "nbformat": 4,
 "nbformat_minor": 0
}
